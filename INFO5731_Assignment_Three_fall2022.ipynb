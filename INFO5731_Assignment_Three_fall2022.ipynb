{
  "cells": [
    {
      "cell_type": "markdown",
      "metadata": {
        "id": "view-in-github",
        "colab_type": "text"
      },
      "source": [
        "<a href=\"https://colab.research.google.com/github/sushanthbandameedi/Sushanth_INFO5731_Spring2023/blob/main/INFO5731_Assignment_Three_fall2022.ipynb\" target=\"_parent\"><img src=\"https://colab.research.google.com/assets/colab-badge.svg\" alt=\"Open In Colab\"/></a>"
      ]
    },
    {
      "cell_type": "markdown",
      "metadata": {
        "id": "USSdXHuqnwv9"
      },
      "source": [
        "# **INFO5731 Assignment Three**\n",
        "\n",
        "In this assignment, you are required to conduct information extraction, semantic analysis based on **the dataset you collected from assignment two**. You may use scipy and numpy package in this assignment."
      ]
    },
    {
      "cell_type": "markdown",
      "metadata": {
        "id": "YWxodXh5n4xF"
      },
      "source": [
        "# **Question 1: Understand N-gram**"
      ]
    },
    {
      "cell_type": "markdown",
      "metadata": {
        "id": "TenBkDJ5n95k"
      },
      "source": [
        "(45 points). Write a python program to conduct N-gram analysis based on the dataset in your assignment two:\n",
        "\n",
        "(1) Count the frequency of all the N-grams (N=3).\n",
        "\n",
        "(2) Calculate the probabilities for all the bigrams in the dataset by using the fomular count(w2 w1) / count(w2). For example, count(really like) / count(really) = 1 / 3 = 0.33.\n",
        "\n",
        "(3) Extract all the **noun phrases** and calculate the relative probabilities of each review in terms of other reviews (abstracts, or tweets) by using the fomular frequency (noun phrase) / max frequency (noun phrase) on the whole dataset. Print out the result in a table with column name the all the noun phrases and row name as all the 100 reviews (abstracts, or tweets). \n"
      ]
    },
    {
      "cell_type": "code",
      "execution_count": null,
      "metadata": {
        "id": "PuFPKhC0m1fd"
      },
      "outputs": [],
      "source": [
        "# Write your code here\n",
        "import nltk\n",
        "from nltk.util import ngrams\n",
        "from nltk.probability import FreqDist\n",
        "from nltk.tokenize import word_tokenize\n",
        "from nltk.tag import pos_tag\n",
        "import pandas as pd\n",
        "\n",
        "# Load the twitter_tweets dataset\n",
        "with open('INFO_5731/assgn_4/reviews.txt', 'r', encoding='utf-8') as file:\n",
        "    data = file.read()\n",
        "\n",
        "# Tokenize the tweets into words\n",
        "words = word_tokenize(data)\n",
        "\n",
        "# Generate N-grams (N=3)\n",
        "n = 3\n",
        "ngrams_list = list(ngrams(words, n))\n",
        "\n",
        "# Count the frequency of all N-grams\n",
        "freq_dist = FreqDist(ngrams_list)\n",
        "\n",
        "# Calculate the probabilities for all bigrams\n",
        "probabilities = {}\n",
        "for ngram, count in freq_dist.items():\n",
        "    if len(ngram) == 2:\n",
        "        word1, word2 = ngram\n",
        "        prob = count / freq_dist[(word1,)]\n",
        "        probabilities[(word1, word2)] = prob\n",
        "\n",
        "# Extract all noun phrases\n",
        "noun_phrases = []\n",
        "pos_tags = pos_tag(words)\n",
        "for i in range(len(pos_tags) - 1):\n",
        "    if pos_tags[i][1].startswith('NN') and pos_tags[i + 1][1].startswith('NN'):\n",
        "        noun_phrases.append(pos_tags[i][0] + ' ' + pos_tags[i + 1][0])\n",
        "\n",
        "# Calculate the relative probabilities of noun phrases\n",
        "noun_phrase_freq_dist = FreqDist(noun_phrases)\n",
        "max_freq = noun_phrase_freq_dist.most_common(1)[0][1]\n",
        "rel_probabilities = {}\n",
        "for noun_phrase, count in noun_phrase_freq_dist.items():\n",
        "    rel_prob = count / max_freq\n",
        "    rel_probabilities[noun_phrase] = rel_prob\n",
        "\n",
        "# Convert the relative probabilities to a table\n",
        "noun_phrases_list = list(noun_phrase_freq_dist.keys())\n",
        "data = []\n",
        "for i in range(len(noun_phrases_list)):\n",
        "    row = []\n",
        "    for j in range(len(noun_phrases_list)):\n",
        "        if i == j:\n",
        "            row.append(rel_probabilities[noun_phrases_list[i]])\n",
        "        else:\n",
        "            row.append('')\n",
        "    data.append(row)\n",
        "\n",
        "# Print the table\n",
        "df = pd.DataFrame(data, columns=noun_phrases_list, index=noun_phrases_list)\n",
        "print(df)\n",
        "\n",
        "\n",
        "\n",
        "\n"
      ]
    },
    {
      "cell_type": "markdown",
      "metadata": {
        "id": "AfpMRCrRwN6Z"
      },
      "source": [
        "# **Question 2: Undersand TF-IDF and Document representation**"
      ]
    },
    {
      "cell_type": "markdown",
      "metadata": {
        "id": "1dCQEbDawWCw"
      },
      "source": [
        "(20 points). Starting from the documents (all the reviews, or abstracts, or tweets) collected for assignment two, write a python program: \n",
        "\n",
        "(1) To build the **documents-terms weights (tf*idf) matrix bold text**.\n",
        "\n",
        "(2) To rank the documents with respect to query (design a query by yourself, for example, \"An Outstanding movie with a haunting performance and best character development\") by using **cosine similarity**."
      ]
    },
    {
      "cell_type": "code",
      "execution_count": null,
      "metadata": {
        "id": "vATjQNTY8buA"
      },
      "outputs": [],
      "source": [
        "# Write your code here\n",
        "\n",
        "import nltk\n",
        "from nltk.corpus import stopwords\n",
        "from sklearn.feature_extraction.text import TfidfVectorizer\n",
        "from sklearn.metrics.pairwise import cosine_similarity\n",
        "\n",
        "# Load the twitter_tweets dataset\n",
        "with open('INFO_5731/assgn_4/reviews.txt', 'r', encoding='utf-8') as file:\n",
        "    data = file.readlines()\n",
        "\n",
        "# Remove stopwords and punctuation from the tweets\n",
        "stop_words = set(stopwords.words(\"english\"))\n",
        "punctuation = ['.', ',', '!', '?', ':', ';', '(', ')', '[', ']', '{', '}', '@', '#', '$', '%', '^', '&', '*', '-', '_', '+', '=', '/', '\\\\', '|', '<', '>', '`', '~']\n",
        "preprocessed_data = []\n",
        "for tweet in data:\n",
        "    tweet = nltk.word_tokenize(tweet)\n",
        "    tweet = [word.lower() for word in tweet if word not in punctuation and word.lower() not in stop_words]\n",
        "    tweet = ' '.join(tweet)\n",
        "    preprocessed_data.append(tweet)\n",
        "\n",
        "# Build the tf-idf matrix\n",
        "vectorizer = TfidfVectorizer()\n",
        "tfidf_matrix = vectorizer.fit_transform(preprocessed_data)\n",
        "terms = vectorizer.get_feature_names()\n",
        "documents = tfidf_matrix.toarray()\n",
        "\n",
        "# Rank the documents with respect to a query using cosine similarity\n",
        "query = \"An Outstanding movie with a haunting performance and best character development\"\n",
        "query = query.lower()\n",
        "query_vector = vectorizer.transform([query]).toarray()\n",
        "similarities = cosine_similarity(query_vector, documents)\n",
        "ranked_documents_indices = similarities.argsort()[0][::-1]\n",
        "\n",
        "# Print the ranked documents\n",
        "print(\"Ranked Documents:\")\n",
        "for i, index in enumerate(ranked_documents_indices):\n",
        "    print(f\"{i+1}. Document {index + 1}: Similarity = {similarities[0][index]:.3f}\")\n",
        "    print(data[index].strip())\n",
        "    print()\n",
        "\n",
        "\n",
        "\n",
        "\n"
      ]
    },
    {
      "cell_type": "markdown",
      "metadata": {
        "id": "5u4jMut3XJkh"
      },
      "source": [
        "# **Question 3: Create your own word embedding model**"
      ]
    },
    {
      "cell_type": "markdown",
      "metadata": {
        "id": "Bzngk9ZUXJkh"
      },
      "source": [
        "(20 points). Use the data you collected for assignment two to build a word embedding model: \n",
        "\n",
        "(1) Train a 300-dimension word embedding (it can be word2vec, glove, ulmfit, bert, or others).\n",
        "\n",
        "(2) Visualize the word embedding model you created.\n",
        "\n",
        "Reference: https://machinelearningmastery.com/develop-word-embeddings-python-gensim/\n",
        "\n",
        "Reference: https://jaketae.github.io/study/word2vec/"
      ]
    },
    {
      "cell_type": "code",
      "execution_count": null,
      "metadata": {
        "id": "Jbqs5waqXJkh"
      },
      "outputs": [],
      "source": [
        "# Write your code here\n",
        "\n",
        "import gensim\n",
        "from gensim.models import Word2Vec\n",
        "import matplotlib.pyplot as plt\n",
        "from sklearn.manifold import TSNE\n",
        "\n",
        "# Load the twitter_tweets dataset\n",
        "with open('INFO_5731/assgn_4/reviews.txt, 'r', encoding='utf-8') as file:\n",
        "    data = file.readlines()\n",
        "\n",
        "# Preprocess the data by tokenizing the tweets\n",
        "preprocessed_data = [gensim.utils.simple_preprocess(tweet) for tweet in data]\n",
        "\n",
        "# Train the word2vec model\n",
        "model = Word2Vec(size=300, window=5, min_count=1, workers=4)\n",
        "model.build_vocab(preprocessed_data)\n",
        "model.train(preprocessed_data, total_examples=model.corpus_count, epochs=30)\n",
        "\n",
        "# Visualize the word embeddings using t-SNE\n",
        "vocabulary = model.wv.vocab\n",
        "embeddings = [model.wv[word] for word in vocabulary]\n",
        "tsne = TSNE(n_components=2)\n",
        "embeddings_tsne = tsne.fit_transform(embeddings)\n",
        "\n",
        "# Plot the word embeddings\n",
        "plt.figure(figsize=(10, 10))\n",
        "plt.scatter(embeddings_tsne[:, 0], embeddings_tsne[:, 1])\n",
        "for i, word in enumerate(vocabulary):\n",
        "    plt.annotate(word, (embeddings_tsne[i, 0], embeddings_tsne[i, 1]))\n",
        "plt.xlabel('t-SNE Dimension 1')\n",
        "plt.ylabel('t-SNE Dimension 2')\n",
        "plt.title('Word Embeddings Visualization')\n",
        "plt.show()\n",
        "\n",
        "\n",
        "\n",
        "\n"
      ]
    },
    {
      "cell_type": "markdown",
      "metadata": {
        "id": "E5mmYIfN8eYV"
      },
      "source": [
        "# **Question 4: Create your own training and evaluation data for sentiment analysis**"
      ]
    },
    {
      "cell_type": "markdown",
      "metadata": {
        "id": "hsi2y4z88ngX"
      },
      "source": [
        "(15 points). **You dodn't need to write program for this question!** Read each review (abstract or tweet) you collected in detail, and annotate each review with a sentiment (positive, negative, or neutral). Save the annotated dataset into a csv file with three columns (first column: document_id, clean_text, sentiment), upload the csv file to GitHub and submit the file link blew. This datset will be used for assignment four: sentiment analysis and text classification. \n"
      ]
    },
    {
      "cell_type": "code",
      "execution_count": null,
      "metadata": {
        "id": "XfvMKJjIXS5G"
      },
      "outputs": [],
      "source": [
        "# The GitHub link of your final csv file\n",
        "\n",
        "\n",
        "\n",
        "# Link: \n",
        "\n",
        "\n",
        "\n"
      ]
    }
  ],
  "metadata": {
    "colab": {
      "provenance": [],
      "include_colab_link": true
    },
    "kernelspec": {
      "display_name": "Python 3 (ipykernel)",
      "language": "python",
      "name": "python3"
    },
    "language_info": {
      "codemirror_mode": {
        "name": "ipython",
        "version": 3
      },
      "file_extension": ".py",
      "mimetype": "text/x-python",
      "name": "python",
      "nbconvert_exporter": "python",
      "pygments_lexer": "ipython3",
      "version": "3.9.12"
    }
  },
  "nbformat": 4,
  "nbformat_minor": 0
}