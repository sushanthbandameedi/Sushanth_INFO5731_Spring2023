{
  "cells": [
    {
      "cell_type": "markdown",
      "metadata": {
        "id": "view-in-github",
        "colab_type": "text"
      },
      "source": [
        "<a href=\"https://colab.research.google.com/github/sushanthbandameedi/Sushanth_INFO5731_Spring2023/blob/main/In_class_exercise_01_01242023_1.ipynb\" target=\"_parent\"><img src=\"https://colab.research.google.com/assets/colab-badge.svg\" alt=\"Open In Colab\"/></a>"
      ]
    },
    {
      "cell_type": "markdown",
      "metadata": {
        "id": "DymRJbxDBCnf"
      },
      "source": [
        "# **The first In-class-exercise (01/24/2023, 40 points in total)**"
      ]
    },
    {
      "cell_type": "markdown",
      "metadata": {
        "id": "03jb4GZsBkBS"
      },
      "source": [
        "(1) Write a Python program to calculate the length of a string. (4 points)"
      ]
    },
    {
      "cell_type": "code",
      "execution_count": null,
      "metadata": {
        "id": "YaGLbSHHB8Ej"
      },
      "outputs": [],
      "source": [
        "# write your answer here\n",
        "input_string = input() \n",
        "\n",
        "length_of_input_string = len(input_string)\n",
        "\n",
        "print(length_of_input_string)"
      ]
    },
    {
      "cell_type": "markdown",
      "metadata": {
        "id": "jJDe71iLB616"
      },
      "source": [
        "(2) Write a Python program to count the number of characters in a string. (4 points)\n",
        "\n",
        "Sample String : 'google.com‘, \n",
        "\n",
        "Expected Result : {'o': 3, 'g': 2, '.': 1, 'e': 1, 'l': 1, 'm': 1, 'c': 1}"
      ]
    },
    {
      "cell_type": "code",
      "execution_count": null,
      "metadata": {
        "id": "MtKskTzbCLaU"
      },
      "outputs": [],
      "source": [
        "#Used sorted function to return the count of characters in descending order.\n",
        "def count_chars(string):\n",
        "    result = {}\n",
        "    for char in string:\n",
        "        if char not in result:\n",
        "            result[char] = 0\n",
        "        if char in string:\n",
        "            result[char] += 1\n",
        "    sorted_dict = sorted(result.items(), key = lambda x:x[1],reverse = True)\n",
        "    return dict(sorted_dict)\n",
        "string = input()    \n",
        "print(count_chars(string))\n",
        "\n",
        "\n"
      ]
    },
    {
      "cell_type": "markdown",
      "metadata": {
        "id": "55W9AMdXCSpV"
      },
      "source": [
        "(3) Write a Python program to sum all the items in a list. (4 points)"
      ]
    },
    {
      "cell_type": "code",
      "execution_count": null,
      "metadata": {
        "id": "I57NXsauCec2"
      },
      "outputs": [],
      "source": [
        "# write your answer here\n",
        "\n",
        "input_list = []\n",
        "  \n",
        "number_of_elements = int(input())\n",
        "  \n",
        "for i in range(0, number_of_elements):\n",
        "    num = int(input())\n",
        "    input_list.append(num) \n",
        "\n",
        "print(\"sum: \",sum(input_list))\n"
      ]
    },
    {
      "cell_type": "markdown",
      "metadata": {
        "id": "4ulBZ6yhCi9F"
      },
      "source": [
        "(4) Write a Python program to get a string from a given string where all occurrences of its first char have been changed to '\\$', except the first char itself. (4 points)\n",
        "\n",
        "Sample String : 'restart‘, \n",
        "\n",
        "Expected Result : 'resta\\$t'"
      ]
    },
    {
      "cell_type": "code",
      "execution_count": null,
      "metadata": {
        "id": "Fj0XhwbBCw2o"
      },
      "outputs": [],
      "source": [
        "# write your answer here\n",
        "def change_character(string):\n",
        "    first_char = string[0]\n",
        "    modified_string = string[0]\n",
        "    for char in string[1:]:\n",
        "        if char == first_char:\n",
        "            modified_string += \"$\"\n",
        "        else:\n",
        "            modified_string += char\n",
        "    return modified_string\n",
        "\n",
        "original_string = \"restart\"\n",
        "modified_string = change_character(original_string)\n",
        "print(\"Original String:\", original_string)\n",
        "print(\"Modified String:\", modified_string)\n",
        "\n",
        "\n",
        "  \n"
      ]
    },
    {
      "cell_type": "markdown",
      "metadata": {
        "id": "_bIP7s1MCzue"
      },
      "source": [
        "(5) Write a program with python which could accept two parameter a and b to calculate and output the result of S, where \n",
        "\n",
        "$\\ S=3.14*(1+a/b)^3$ (4 points)\n",
        "\n"
      ]
    },
    {
      "cell_type": "code",
      "execution_count": null,
      "metadata": {
        "id": "w79QilHXD3Mg"
      },
      "outputs": [],
      "source": [
        "# write your answer here\n",
        "def calc_function(a,b):\n",
        "    result = 3.14*(1+(a/b))**3\n",
        "    return result\n",
        "   \n",
        "a = int(input())\n",
        "b = int(input())\n",
        "print(calc_function(a,b))\n",
        "  \n",
        "\n",
        "\n",
        "\n"
      ]
    },
    {
      "cell_type": "markdown",
      "metadata": {
        "id": "xCa2bK9aD4Q3"
      },
      "source": [
        "(6) Write a Python program to concatenate following dictionaries to create a new one. (4 points)\n",
        "\n",
        "Sample Dictionary : dic1={1:10, 2:20}, dic2={3:30, 4:40}, dic3={5:50,6:60}, \n",
        "\n",
        "Expected Result : {1: 10, 2: 20, 3: 30, 4: 40, 5: 50, 6: 60}\n"
      ]
    },
    {
      "cell_type": "code",
      "execution_count": null,
      "metadata": {
        "id": "_z4aLqAbEET1"
      },
      "outputs": [],
      "source": [
        "# write your answer here\n",
        "#Two dictionaries can be concatenated by prefixing them with ** within flower brackets\n",
        "dic1={1:10, 2:20}, dic2={3:30, 4:40}, dic3={5:50,6:60},\n",
        "merged_dict = {**dic1,**dic2,**dic3}\n",
        "print(merged_dict)\n"
      ]
    },
    {
      "cell_type": "markdown",
      "metadata": {
        "id": "0v48Vqa7FrQh"
      },
      "source": [
        "(7) Write a Python program to check whether an element exists within a tuple. (4 points)"
      ]
    },
    {
      "cell_type": "code",
      "execution_count": null,
      "metadata": {
        "id": "7WEmgq-DF2P1"
      },
      "outputs": [],
      "source": [
        "# write your answer here\n",
        "t = (1,\"A\",3,\"me\",)\n",
        "search_char = input()\n",
        "if(search_char in t):\n",
        "  print(True)\n"
      ]
    },
    {
      "cell_type": "markdown",
      "metadata": {
        "id": "vD5PYLMuGga_"
      },
      "source": [
        "(8) Write a Python program to find maximum and the minimum value in a set. (4 points)"
      ]
    },
    {
      "cell_type": "code",
      "execution_count": null,
      "metadata": {
        "id": "t0D5kdJUGjjw"
      },
      "outputs": [],
      "source": [
        "# write your answer here\n",
        "def max_min(number_set):\n",
        "    max_value = max(number_set)\n",
        "    min_value = min(number_set)\n",
        "    return (max_val, min_val)\n",
        "\n",
        "\n",
        "number_set = {1, 2, 3, 4, 5}\n",
        "max_value, min_value = find_max_min(number_set)\n",
        "print(\"Max value:\", max_value)\n",
        "print(\"Min value:\", min_value)\n"
      ]
    },
    {
      "cell_type": "markdown",
      "metadata": {
        "id": "uHkd-y5VhVWC"
      },
      "source": [
        "(9) Write a Python program to randomly divide the students in this class into six groups for term projects, each group should have at least 4 students but no more than 6 students (including 6). Here is the students list: (4 points)\n",
        "\n",
        "studnet_list = ['ja0964','sa1198','sb1357','vb0218','sc1229','kg0569','kg0470','sg1297','bg0320','fh0141','jl1252','sk1386',\n",
        "           'ak0956','sk1390','sk1458','sk1313','ak0934','vm0377','nm0618','sm1640','sm1907','gn0108','pr0353','dr0609','ms1500','aos0040','ds0814', 'av0659','nv0234','hy0232']"
      ]
    },
    {
      "cell_type": "code",
      "execution_count": null,
      "metadata": {
        "id": "3iGbmcOBhTwy"
      },
      "outputs": [],
      "source": [
        "# write your answer here\n",
        "import random\n",
        "\n",
        "def divide_students(students, group_size):\n",
        "    random.shuffle(students)\n",
        "    return [students[i:i+group_size] for i in range(0, len(students), group_size)]\n",
        "\n",
        "students = ['Ja0964','sa1198','sb1357','vb0218','sc1229','kg0569','kg0470','sg1297','bg0320','fh0141','jl1252','sk1386', 'ak0956','sk1390','sk1458','sk1313','ak0934','vm0377','nm0618','sm1640','sm1907','gn0108','pr0353','dr0609','ms1500','aos0040','ds0814', 'av0659','nv0234','hy0232']\n",
        "group_size = 5\n",
        "\n",
        "grouped_students = divide_students(students, group_size)\n",
        "for i, group in enumerate(grouped_students):\n",
        "    print(\"Group\", i+1, \":\", group)\n",
        "\n"
      ]
    },
    {
      "cell_type": "markdown",
      "metadata": {
        "id": "3MTF2ssLsDpM"
      },
      "source": [
        "(10) Write a Python program to find the duplicate elements in a given array of integers. Return -1 If there are no such elements. (4 points)"
      ]
    },
    {
      "cell_type": "code",
      "execution_count": null,
      "metadata": {
        "id": "KOEw8JA6sDpN"
      },
      "outputs": [],
      "source": [
        "# write your answer here\n",
        "def find_duplicates(arr):\n",
        "    duplicate_dict = {}\n",
        "    for i in arr:\n",
        "        if i in duplicate_dict:\n",
        "            duplicate_dict[i] += 1\n",
        "        else:\n",
        "            duplicate_dict[i] = 1\n",
        "    duplicates = [key for key, value in duplicate_dict.items() if value > 1]\n",
        "    if not duplicates:\n",
        "        return -1\n",
        "    return duplicates\n",
        "\n",
        "arr = [1, 2, 3, 4, 2, 5, 6, 7, 3, 8, 9]\n",
        "print(find_duplicates(arr))\n",
        "\n"
      ]
    },
    {
      "cell_type": "markdown",
      "metadata": {
        "id": "kWc6eEmGsDpN"
      },
      "source": [
        "(11) Write a Python program to select all the Sundays of a specified year. (4 extra points)"
      ]
    },
    {
      "cell_type": "code",
      "execution_count": null,
      "metadata": {
        "id": "LIzQDzhBsDpN"
      },
      "outputs": [],
      "source": [
        "# write your answer here\n",
        "import calendar\n",
        "\n",
        "def count_sundays(year):\n",
        "    sunday_count = 0\n",
        "    for month in range(1, 13):\n",
        "        sunday_count += calendar.monthcalendar(year, month)[0].count(6)\n",
        "    return sunday_count\n",
        "\n",
        "year = 2022\n",
        "print(\"Number of Sundays in year\", year, \":\", count_sundays(year))\n"
      ]
    }
  ],
  "metadata": {
    "colab": {
      "provenance": [],
      "include_colab_link": true
    },
    "kernelspec": {
      "display_name": "Python 3 (ipykernel)",
      "language": "python",
      "name": "python3"
    },
    "language_info": {
      "codemirror_mode": {
        "name": "ipython",
        "version": 3
      },
      "file_extension": ".py",
      "mimetype": "text/x-python",
      "name": "python",
      "nbconvert_exporter": "python",
      "pygments_lexer": "ipython3",
      "version": "3.9.12"
    }
  },
  "nbformat": 4,
  "nbformat_minor": 0
}