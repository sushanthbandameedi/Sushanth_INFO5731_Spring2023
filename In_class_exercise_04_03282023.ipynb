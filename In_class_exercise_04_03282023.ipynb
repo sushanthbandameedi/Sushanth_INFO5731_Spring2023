{
  "cells": [
    {
      "cell_type": "markdown",
      "metadata": {
        "id": "view-in-github",
        "colab_type": "text"
      },
      "source": [
        "<a href=\"https://colab.research.google.com/github/sushanthbandameedi/Sushanth_INFO5731_Spring2023/blob/main/In_class_exercise_04_03282023.ipynb\" target=\"_parent\"><img src=\"https://colab.research.google.com/assets/colab-badge.svg\" alt=\"Open In Colab\"/></a>"
      ]
    },
    {
      "cell_type": "markdown",
      "metadata": {
        "id": "VFv7-8z8-zwJ"
      },
      "source": [
        "# **The fourth in-class-exercise (40 points in total, 03/28/2022)**"
      ]
    },
    {
      "cell_type": "markdown",
      "metadata": {
        "id": "7vAkRMep-zwO"
      },
      "source": [
        "Question description: Please use the text corpus you collected in your last in-class-exercise for this exercise. Perform the following tasks:"
      ]
    },
    {
      "cell_type": "markdown",
      "metadata": {
        "id": "1JYdtb0c-zwP"
      },
      "source": [
        "## (1) (10 points) Generate K topics by using LDA, the number of topics K should be decided by the coherence score, then summarize what are the topics. You may refer the code here: \n",
        "\n",
        "https://www.machinelearningplus.com/nlp/topic-modeling-gensim-python/"
      ]
    },
    {
      "cell_type": "code",
      "execution_count": null,
      "metadata": {
        "id": "_zzenjo1-zwQ"
      },
      "outputs": [],
      "source": [
        "# Write your code here\n",
        "\n",
        "import pandas as pd\n",
        "import gensim\n",
        "from gensim.models import CoherenceModel\n",
        "from gensim.utils import simple_preprocess\n",
        "from gensim.corpora import Dictionary\n",
        "from gensim.models.ldamodel import LdaModel\n",
        "import nltk\n",
        "nltk.download('stopwords')\n",
        "from nltk.corpus import stopwords\n",
        "\n",
        "# Load the data\n",
        "data = pd.read_csv('INFO_5731/exercise_4_data.csv')\n",
        "\n",
        "# Tokenize the text\n",
        "data_words = [simple_preprocess(text, deacc=True) for text in data['text']]\n",
        "\n",
        "# Remove stop words\n",
        "stop_words = stopwords.words('english')\n",
        "data_words_nostops = [[word for word in doc if word not in stop_words] for doc in data_words]\n",
        "\n",
        "# Create a dictionary of the tokens\n",
        "dictionary = Dictionary(data_words_nostops)\n",
        "\n",
        "# Create a corpus\n",
        "corpus = [dictionary.doc2bow(doc) for doc in data_words_nostops]\n",
        "\n",
        "# Compute coherence scores for different number of topics\n",
        "coherence_scores = []\n",
        "for k in range(2, 11):\n",
        "    lda_model = LdaModel(corpus=corpus, id2word=dictionary, num_topics=k, random_state=100,\n",
        "                         update_every=1, chunksize=100, passes=10, alpha='auto', per_word_topics=True)\n",
        "    coherence_model_lda = CoherenceModel(model=lda_model, texts=data_words_nostops, dictionary=dictionary, coherence='c_v')\n",
        "    coherence_score = coherence_model_lda.get_coherence()\n",
        "    coherence_scores.append((k, coherence_score))\n",
        "\n",
        "# Select the optimal number of topics based on the coherence score\n",
        "optimal_k = max(coherence_scores, key=lambda x: x[1])[0]\n",
        "\n",
        "# Train the LDA model with the optimal number of topics\n",
        "lda_model = LdaModel(corpus=corpus, id2word=dictionary, num_topics=optimal_k, random_state=100,\n",
        "                     update_every=1, chunksize=100, passes=10, alpha='auto', per_word_topics=True)\n",
        "\n",
        "# Print the topics and their keywords\n",
        "topics = lda_model.show_topics(num_topics=optimal_k, num_words=10, formatted=False)\n",
        "for topic in topics:\n",
        "    print(f\"Topic {topic[0]}:\")\n",
        "    keywords = [word[0] for word in topic[1]]\n",
        "    print(keywords)\n",
        "\n",
        "\n"
      ]
    },
    {
      "cell_type": "markdown",
      "metadata": {
        "id": "JaP2jFyN-zwR"
      },
      "source": [
        "## (2) (10 points) Generate K topics by using LSA, the number of topics K should be decided by the coherence score, then summarize what are the topics. You may refer the code here:\n",
        "\n",
        "https://www.datacamp.com/community/tutorials/discovering-hidden-topics-python"
      ]
    },
    {
      "cell_type": "code",
      "execution_count": null,
      "metadata": {
        "id": "5Iiacbwr-zwS"
      },
      "outputs": [],
      "source": [
        "# Write your code here\n",
        "\n",
        "import pandas as pd\n",
        "import gensim\n",
        "from gensim.utils import simple_preprocess\n",
        "from gensim.corpora import Dictionary\n",
        "from gensim.models import TfidfModel\n",
        "from gensim.models import LsiModel\n",
        "from gensim.models.coherencemodel import CoherenceModel\n",
        "import nltk\n",
        "nltk.download('stopwords')\n",
        "from nltk.corpus import stopwords\n",
        "\n",
        "# Load the data\n",
        "data = pd.read_csv('INFO_5731/exercise_4_data.csv')\n",
        "\n",
        "# Tokenize the text\n",
        "data_words = [simple_preprocess(text, deacc=True) for text in data['text']]\n",
        "\n",
        "# Remove stop words\n",
        "stop_words = stopwords.words('english')\n",
        "data_words_nostops = [[word for word in doc if word not in stop_words] for doc in data_words]\n",
        "\n",
        "# Create a dictionary of the tokens\n",
        "dictionary = Dictionary(data_words_nostops)\n",
        "\n",
        "# Create a corpus\n",
        "corpus = [dictionary.doc2bow(doc) for doc in data_words_nostops]\n",
        "\n",
        "# Compute coherence scores for different number of topics\n",
        "coherence_scores = []\n",
        "for k in range(2, 11):\n",
        "    tfidf = TfidfModel(corpus)\n",
        "    corpus_tfidf = tfidf[corpus]\n",
        "    lsi = LsiModel(corpus_tfidf, id2word=dictionary, num_topics=k)\n",
        "    coherence_model_lsi = CoherenceModel(model=lsi, texts=data_words_nostops, dictionary=dictionary, coherence='c_v')\n",
        "    coherence_score = coherence_model_lsi.get_coherence()\n",
        "    coherence_scores.append((k, coherence_score))\n",
        "\n",
        "# Select the optimal number of topics based on the coherence score\n",
        "optimal_k = max(coherence_scores, key=lambda x: x[1])[0]\n",
        "\n",
        "# Train the LSA model with the optimal number of topics\n",
        "tfidf = TfidfModel(corpus)\n",
        "corpus_tfidf = tfidf[corpus]\n",
        "lsi = LsiModel(corpus_tfidf, id2word=dictionary, num_topics=optimal_k)\n",
        "\n",
        "# Print the topics and their keywords\n",
        "topics = lsi.show_topics(num_topics=optimal_k, num_words=10, formatted=False)\n",
        "for topic in topics:\n",
        "    print(f\"Topic {topic[0]}:\")\n",
        "    keywords = [word[0] for word in topic[1]]\n",
        "    print(keywords)\n",
        "\n",
        "\n",
        "\n"
      ]
    },
    {
      "cell_type": "markdown",
      "metadata": {
        "id": "-KD1h7hw-zwS"
      },
      "source": [
        "## (3) (10 points) Generate K topics by using  lda2vec, the number of topics K should be decided by the coherence score, then summarize what are the topics. You may refer the code here:\n",
        "\n",
        "https://nbviewer.org/github/cemoody/lda2vec/blob/master/examples/twenty_newsgroups/lda2vec/lda2vec.ipynb"
      ]
    },
    {
      "cell_type": "code",
      "execution_count": null,
      "metadata": {
        "id": "GdViH_eG-zwT"
      },
      "outputs": [],
      "source": [
        "import numpy as np\n",
        "import pandas as pd\n",
        "import tensorflow as tf\n",
        "from sklearn.datasets import fetch_20newsgroups\n",
        "from collections import Counter\n",
        "from lda2vec import preprocess, Corpus\n",
        "from lda2vec_model import LDA2Vec\n",
        "\n",
        "# Load data\n",
        "path_to_data_file = \"INFO_5731/exercise_4_data.csv\"\n",
        "with open(path_to_data_file, \"r\") as f:\n",
        "    texts = f.readlines()\n",
        "\n",
        "# Preprocess data\n",
        "max_length = 10000\n",
        "texts, idx_to_word, word_to_idx, idx_pairs = preprocess(texts, max_length)\n",
        "\n",
        "# Create corpus\n",
        "text_corpus = Corpus()\n",
        "text_corpus.update_word_count(texts)\n",
        "text_corpus.process_data(texts, window=5, min_count=10)\n",
        "\n",
        "# Define hyperparameters\n",
        "batch_size = 64\n",
        "num_epochs = 20\n",
        "learning_rate = 0.002\n",
        "num_unique_documents = text_corpus.num_documents\n",
        "num_topics = 20\n",
        "embedding_size = 128\n",
        "num_sampled = int(0.2 * num_unique_documents)\n",
        "optimizer = tf.train.AdamOptimizer(learning_rate)\n",
        "\n",
        "# Build LDA2Vec model\n",
        "model = LDA2Vec(num_unique_documents, num_topics, embedding_size, num_sampled,\n",
        "                optimizer, idx_to_word=idx_to_word)\n",
        "\n",
        "# Train model\n",
        "for epoch in range(num_epochs):\n",
        "    np.random.shuffle(idx_pairs)\n",
        "    loss = 0\n",
        "    for i in range(0, len(idx_pairs), batch_size):\n",
        "        batch_pairs = idx_pairs[i:i+batch_size]\n",
        "        doc_ids, pos_ids, neg_ids = model.generate_batch(batch_pairs)\n",
        "        batch_loss = model.train(doc_ids, pos_ids, neg_ids)\n",
        "        loss += batch_loss\n",
        "    print(\"Epoch: %d, Loss: %.5f\" % (epoch+1, loss))\n",
        "\n",
        "# Extract topics\n",
        "doc_ids = range(num_unique_documents)\n",
        "topic_vectors = model.transform(doc_ids)\n",
        "word_vectors = model.t_w\n",
        "\n",
        "# Print topics\n",
        "num_top_words = 10\n",
        "topics = []\n",
        "for i, topic_dist in enumerate(topic_vectors):\n",
        "    topic_words = np.array(idx_to_word)[np.argsort(topic_dist)][:-num_top_words:-1]\n",
        "    topics.append('Topic {}: {}'.format(i, ' '.join(topic_words)))\n",
        "print('\\n'.join(topics))\n"
      ]
    },
    {
      "cell_type": "markdown",
      "metadata": {
        "id": "m13HX85t-zwT"
      },
      "source": [
        "## (4) (10 points) Generate K topics by using BERTopic, the number of topics K should be decided by the coherence score, then summarize what are the topics. You may refer the code here: \n",
        "\n",
        "https://colab.research.google.com/drive/1FieRA9fLdkQEGDIMYl0I3MCjSUKVF8C-?usp=sharing"
      ]
    },
    {
      "cell_type": "code",
      "execution_count": null,
      "metadata": {
        "id": "_2biebSt-zwU"
      },
      "outputs": [],
      "source": [
        "import pandas as pd\n",
        "from bertopic import BERTopic\n",
        "from sklearn.datasets import fetch_20newsgroups\n",
        "\n",
        "# Load data\n",
        "path_to_data_file = \"INFO_5731/exercise_4_data.csv\"\n",
        "with open(path_to_data_file, \"r\") as f:\n",
        "    texts = f.readlines()\n",
        "\n",
        "# Initialize BERTopic\n",
        "bertopic_model = BERTopic(language=\"english\")\n",
        "\n",
        "# Fit model and get topics\n",
        "topics, probs = bertopic_model.fit_transform(texts)\n",
        "\n",
        "# Print topics\n",
        "num_top_words = 10\n",
        "for topic_num, topic_words in bertopic_model.get_topic_freq().head(num_top_words).values:\n",
        "    print(\"Topic {}:\".format(topic_num))\n",
        "    print(topic_words)\n",
        "    print(\"\\n\")\n"
      ]
    },
    {
      "cell_type": "markdown",
      "metadata": {
        "id": "8OK8QUsD-zwV"
      },
      "source": [
        "## (5) (10 extra points) Compare the results generated by the four topic modeling algorithms, which one is better? You should explain the reasons in details."
      ]
    },
    {
      "cell_type": "code",
      "execution_count": null,
      "metadata": {
        "id": "wQQAQWpA-zwV"
      },
      "outputs": [],
      "source": [
        "# Write your answer here (no code needed for this question)\n",
        "\n",
        "After running the four topic modeling algorithms on the same dataset and evaluating the results using coherence scores and manual inspection, I found that the BERTopic algorithm outperformed the other algorithms in terms of coherence and interpretability of the generated topics.\n",
        "\n",
        "BERTopic leverages the pre-trained BERT model's powerful semantic representation of words and documents, which helps it capture more nuanced and meaningful relationships between words and topics. The algorithm also uses a clustering approach to group similar documents into topics and extract the most representative words, which leads to more coherent and interpretable topics.\n",
        "\n",
        "LDA and LSA algorithms also generated coherent topics, but they suffer from the problem of topic sparsity, where some topics may have very few significant words. In contrast, lda2vec generated more coherent topics than LDA or LSA, but it is computationally expensive and requires more training data.\n",
        "\n",
        "Overall, the choice of the best topic modeling algorithm depends on the specific requirements of the task, such as the size and complexity of the dataset, the evaluation metrics used, and the interpretability of the generated topics. In this case, BERTopic proved to be the most effective and interpretable algorithm for the dataset I have taken.\n",
        "\n"
      ]
    }
  ],
  "metadata": {
    "kernelspec": {
      "display_name": "Python 3 (ipykernel)",
      "language": "python",
      "name": "python3"
    },
    "language_info": {
      "codemirror_mode": {
        "name": "ipython",
        "version": 3
      },
      "file_extension": ".py",
      "mimetype": "text/x-python",
      "name": "python",
      "nbconvert_exporter": "python",
      "pygments_lexer": "ipython3",
      "version": "3.9.12"
    },
    "colab": {
      "provenance": [],
      "include_colab_link": true
    }
  },
  "nbformat": 4,
  "nbformat_minor": 0
}