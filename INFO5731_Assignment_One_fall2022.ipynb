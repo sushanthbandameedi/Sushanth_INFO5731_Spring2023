{
  "cells": [
    {
      "cell_type": "markdown",
      "metadata": {
        "id": "view-in-github",
        "colab_type": "text"
      },
      "source": [
        "<a href=\"https://colab.research.google.com/github/sushanthbandameedi/Sushanth_INFO5731_Spring2023/blob/main/INFO5731_Assignment_One_fall2022.ipynb\" target=\"_parent\"><img src=\"https://colab.research.google.com/assets/colab-badge.svg\" alt=\"Open In Colab\"/></a>"
      ]
    },
    {
      "cell_type": "markdown",
      "metadata": {
        "id": "Ryk8D1Q4Wsrp"
      },
      "source": [
        "# **INFO5731 Assignment One**"
      ]
    },
    {
      "cell_type": "markdown",
      "metadata": {
        "id": "90_NR8c5XGWc"
      },
      "source": [
        "# Question 1\n",
        "\n",
        "(20 points). Write a Python program to generate 12 random numbers between 1 and 100. Sort the list of numbers in ascending order and print it out. Sort the list of numbers in descending order and print it out. Calculate the average for the group and print it out."
      ]
    },
    {
      "cell_type": "code",
      "execution_count": null,
      "metadata": {
        "colab": {
          "base_uri": "https://localhost:8080/"
        },
        "id": "5QX6bJjGWXY9",
        "outputId": "08774d56-bdc7-41ef-a36b-0bcdcd57c9f0"
      },
      "outputs": [
        {
          "output_type": "stream",
          "name": "stdout",
          "text": [
            "list_a in ascending order is  [3, 4, 13, 17, 24, 28, 33, 43, 49, 53, 56, 72]\n",
            "list_a in descending order is [72, 56, 53, 49, 43, 33, 28, 24, 17, 13, 4, 3]\n",
            "Average of list_a is 32.916666666666664\n"
          ]
        }
      ],
      "source": [
        "# Your code here\n",
        "import random \n",
        "\n",
        "list_a = []\n",
        "no_of_items = 12\n",
        "\n",
        "#generate random number b/w 1&100 and append it to list\n",
        "for i in range(no_of_items):\n",
        "    list_a.append(random.randint(1, 100)) \n",
        "\n",
        "#sort the list in ascending order\n",
        "list_a.sort() \n",
        "print(\"list_a in ascending order is \", list_a)\n",
        "\n",
        "#sort the list in descending order\n",
        "list_a.sort(reverse=True) \n",
        "print(\"list_a in descending order is\", list_a)\n",
        "\n",
        "#calculate average of numbers in list\n",
        "avg_list_a = sum(list_a) / len(list_a) \n",
        "print(\"Average of list_a is\", avg_list_a)\n",
        "\n"
      ]
    },
    {
      "cell_type": "markdown",
      "metadata": {
        "id": "1F_PZdH9Sh49"
      },
      "source": [
        "# Question 2\n",
        "(25 points). Write a program that will do the following string formatting tasks:\n",
        "\n",
        "(1) Ask the user to enter two sentences.\n",
        "\n",
        "(2) Make each sentence into a list. Each element in the list should correspond to a word in the sentence. For example, if the sentence is \"Alas! Am I alive? This is my first python program\", the program should print out ['Alas, '!', 'Am', 'I', 'alive, '?', 'This', 'is', 'my', 'first', 'python', 'program'].\n",
        "\n",
        "(3) Compare the two sentences. Print out a list of words that occur in both sentences.\n",
        "\n",
        "(4) Remove any punctuation from the sentence and print it back out. It should remove at least the following characters, but it can remove more: period(“.”), comma (“,”), semicolon (“;”), and colon (“:”)\n",
        "\n",
        "(5) Count the number of vowels in the sentences. Print out each vowel and the number of times it appears in the sentences, such as: a:2, e:1, i:0, etc"
      ]
    },
    {
      "cell_type": "code",
      "execution_count": null,
      "metadata": {
        "id": "Y0oOSlsOS0cq"
      },
      "outputs": [],
      "source": [
        "# Your code here\n",
        "import string\n",
        "import re\n",
        "\n",
        "#variable to store vowels\n",
        "vowels = 'aeiouAEIOU'\n",
        "\n",
        "#Function to split a sentence into a list of words and special characters\n",
        "def split_sentence(sentence):\n",
        "    return re.findall(r'\\b\\w+\\b|[^\\w\\s]', sentence)\n",
        "\n",
        "#Function to compare two sentences and return a list of common words\n",
        "def compare_sentences(sentence1, sentence2):\n",
        "    words1 = split_sentence(sentence1)\n",
        "    words2 = split_sentence(sentence2)\n",
        "    common_words = [word for word in words1 if word in words2 and word not in string.punctuation]\n",
        "    return common_words\n",
        "\n",
        "#Function to remove punctuation from a sentence\n",
        "def remove_punctuation(sentence):\n",
        "    return sentence.translate(str.maketrans(\"\", \"\", string.punctuation))\n",
        "\n",
        "#Function to count the number of vowels in a sentence\n",
        "def count_vowels(sentence):\n",
        "    count = {v: 0 for v in vowels}\n",
        "    for char in sentence:\n",
        "        if char in vowels:\n",
        "            count[char] += 1\n",
        "    return count\n",
        "\n",
        "#Ask the user to enter two sentences\n",
        "sentence1 = input(\"Enter the first sentence: \")\n",
        "sentence2 = input(\"Enter the second sentence: \")\n",
        "\n",
        "#Make each sentence into a list of words and special characters\n",
        "words1 = split_sentence(sentence1)\n",
        "words2 = split_sentence(sentence2)\n",
        "\n",
        "print(words1)\n",
        "print(words2)\n",
        "\n",
        "#Compare the two sentences and print out the common words\n",
        "common_words = compare_sentences(sentence1, sentence2)\n",
        "print(f\"Common words: {common_words}\")\n",
        "\n",
        "#Remove punctuation from the sentences and print them out\n",
        "sentence1_without_punctuation = remove_punctuation(sentence1)\n",
        "sentence2_without_punctuation = remove_punctuation(sentence2)\n",
        "print(f\"Sentence 1 without punctuation: {sentence1_without_punctuation}\")\n",
        "print(f\"Sentence 2 without punctuation: {sentence2_without_punctuation}\")\n",
        "\n",
        "#Count the number of vowels in the sentences and print them out\n",
        "vowel_count1 = count_vowels(sentence1_without_punctuation)\n",
        "vowel_count2 = count_vowels(sentence2_without_punctuation)\n",
        "total_vowel_count = {v: vowel_count1[v] + vowel_count2[v] for v in vowels}\n",
        "print(\"Vowel count:\")\n",
        "for v in total_vowel_count:\n",
        "    print(f\"{v}: {total_vowel_count[v]}\")\n",
        "\n"
      ]
    },
    {
      "cell_type": "markdown",
      "metadata": {
        "id": "CmFoI4jDS9nx"
      },
      "source": [
        "# Question 3 \n",
        "\n",
        "(15 points). The formula that describes the volume V of a sphere with radius r is the following:\n",
        "\n",
        "$ V=\\frac{4}{3}\\ast\\ \\pi\\ast\\ r^3 $\n",
        "\n",
        "Write a program to calculate the value of V when r is in the range of 1–10. Output the result in the following format:\n",
        "\n",
        "\tr\tV\n",
        "\t1\t…\n",
        "\t2\t…\n",
        "\t3\t…\n"
      ]
    },
    {
      "cell_type": "code",
      "execution_count": null,
      "metadata": {
        "id": "pEyqeioAT95b",
        "outputId": "137e27bc-d74b-45f5-8990-03d7fa9fa3dc",
        "colab": {
          "base_uri": "https://localhost:8080/"
        }
      },
      "outputs": [
        {
          "output_type": "stream",
          "name": "stdout",
          "text": [
            "r    V\n",
            "1    4.19\n",
            "2    33.49\n",
            "3    113.04\n",
            "4    267.95\n",
            "5    523.33\n",
            "6    904.32\n",
            "7    1436.03\n",
            "8    2143.57\n",
            "9    3052.08\n",
            "10    4186.67\n"
          ]
        }
      ],
      "source": [
        "# Your code here\n",
        "pi = 3.141\n",
        "\n",
        "print(\"r    V\")\n",
        "for r in range(1, 11):\n",
        "  V = 4/3 * 3.14 * r**3\n",
        "  print(r, \"  \",round(V, 2))\n"
      ]
    },
    {
      "cell_type": "markdown",
      "metadata": {
        "id": "z3tBE7E-Xn5X"
      },
      "source": [
        "# Question 4\n",
        "\n",
        "(40 points). In the field of Data Science, data is often formatted as a comma-delimited (CSV) file, where each line in a file corresponds to a field's value. Refer to Chapter 9 (p. 106) for more information on comma-delimited files. To answer this question, you will need to download the file [Assignment1_denton_housing.csv](https://raw.githubusercontent.com/unt-iialab/info5731-spring2022/main/assignments/Assignment1_denton_housing.csv) included with this assignment. The file [Assignment1_denton_housing.csv](https://raw.githubusercontent.com/unt-iialab/info5731-spring2022/main/assignments/Assignment1_denton_housing.csv) contains statistics about housing in the city of Denton from 2008 to 2014. Write a program to implement the following questions.\n",
        "\n",
        "(1) (10 pts) Calculate the difference in the number of Occupied Housing Units from year to year and print it. The difference must be calculated for the consecutive years such as 2008-2009, 2009-2010 etc. Finally, print the values in the ascending order.\n",
        "\n",
        "(2) (10 pts) For all the years, calculate the percentage of housing units which are vacant an occupied. Print the results in the following format:\n",
        "\n",
        "Year Vacant Housing Units Occupied Housing Units\n",
        "\n",
        "    2008  30%   70%                          \n",
        "\t2009 ----- -----\n",
        "\t2010 ----- -----\n",
        "    2011 ----- -----\n",
        "\t2012 ----- -----\n",
        "    2013 ----- -----\n",
        "\t2014 ----- -----\n",
        "  \n",
        "  \n",
        "\n",
        "(3) (10 pts) Calculate and print the valued and years in which the highest number of housing units were vacant and occupied. Print the results in the following format:  \n",
        "\n",
        "                              Year\tValue\n",
        "\tVacant Housing Units\t  -----   -----\n",
        "\tOccupied Housing Units\t-----   -----\n",
        "\n",
        "(4) (10 pts) Calculate the harmonic mean of the total housing units and print it out. You can find the information about harmonic mean here: https://ncalculators.com/statistics/harmonic-mean-calculator.htm"
      ]
    },
    {
      "cell_type": "code",
      "execution_count": null,
      "metadata": {
        "id": "lqGYuHBhcsRH",
        "colab": {
          "base_uri": "https://localhost:8080/",
          "height": 339
        },
        "outputId": "34d28076-9bc5-4439-d403-a26b6a1cbdef"
      },
      "outputs": [
        {
          "output_type": "error",
          "ename": "FileNotFoundError",
          "evalue": "ignored",
          "traceback": [
            "\u001b[0;31m---------------------------------------------------------------------------\u001b[0m",
            "\u001b[0;31mFileNotFoundError\u001b[0m                         Traceback (most recent call last)",
            "\u001b[0;32m<ipython-input-1-1bb8a4ad2e6a>\u001b[0m in \u001b[0;36m<module>\u001b[0;34m\u001b[0m\n\u001b[1;32m     56\u001b[0m \u001b[0;34m\u001b[0m\u001b[0m\n\u001b[1;32m     57\u001b[0m \u001b[0;32mif\u001b[0m \u001b[0m__name__\u001b[0m \u001b[0;34m==\u001b[0m \u001b[0;34m\"__main__\"\u001b[0m\u001b[0;34m:\u001b[0m\u001b[0;34m\u001b[0m\u001b[0;34m\u001b[0m\u001b[0m\n\u001b[0;32m---> 58\u001b[0;31m   \u001b[0mmain\u001b[0m\u001b[0;34m(\u001b[0m\u001b[0;34m)\u001b[0m\u001b[0;34m\u001b[0m\u001b[0;34m\u001b[0m\u001b[0m\n\u001b[0m\u001b[1;32m     59\u001b[0m \u001b[0;34m\u001b[0m\u001b[0m\n",
            "\u001b[0;32m<ipython-input-1-1bb8a4ad2e6a>\u001b[0m in \u001b[0;36mmain\u001b[0;34m()\u001b[0m\n\u001b[1;32m     29\u001b[0m \u001b[0;34m\u001b[0m\u001b[0m\n\u001b[1;32m     30\u001b[0m \u001b[0;32mdef\u001b[0m \u001b[0mmain\u001b[0m\u001b[0;34m(\u001b[0m\u001b[0;34m)\u001b[0m\u001b[0;34m:\u001b[0m\u001b[0;34m\u001b[0m\u001b[0;34m\u001b[0m\u001b[0m\n\u001b[0;32m---> 31\u001b[0;31m   \u001b[0;32mwith\u001b[0m \u001b[0mopen\u001b[0m\u001b[0;34m(\u001b[0m\u001b[0;34m\"Assignment1_denton_housing.csv\"\u001b[0m\u001b[0;34m)\u001b[0m \u001b[0;32mas\u001b[0m \u001b[0mf\u001b[0m\u001b[0;34m:\u001b[0m\u001b[0;34m\u001b[0m\u001b[0;34m\u001b[0m\u001b[0m\n\u001b[0m\u001b[1;32m     32\u001b[0m     \u001b[0mdata\u001b[0m \u001b[0;34m=\u001b[0m \u001b[0mlist\u001b[0m\u001b[0;34m(\u001b[0m\u001b[0mcsv\u001b[0m\u001b[0;34m.\u001b[0m\u001b[0mreader\u001b[0m\u001b[0;34m(\u001b[0m\u001b[0mf\u001b[0m\u001b[0;34m)\u001b[0m\u001b[0;34m)\u001b[0m\u001b[0;34m\u001b[0m\u001b[0;34m\u001b[0m\u001b[0m\n\u001b[1;32m     33\u001b[0m \u001b[0;34m\u001b[0m\u001b[0m\n",
            "\u001b[0;31mFileNotFoundError\u001b[0m: [Errno 2] No such file or directory: 'Assignment1_denton_housing.csv'"
          ]
        }
      ],
      "source": [
        "#Import libraries, csv for reading csv files and harmonic_mean from statistics module for calculating harmonic mean\n",
        "import csv\n",
        "from statistics import harmonic_mean\n",
        "\n",
        "#Function to calculate difference in occupied housing units from year to year\n",
        "def calculate_difference(data):\n",
        "  #Initialize an empty list to store difference values\n",
        "  occupied_diff = []\n",
        "  #Loop through the data starting from 0 to the length of data minus 1\n",
        "  for i in range(len(data) - 1):\n",
        "    #Append the difference between the consecutive years to the occupied_diff list\n",
        "    occupied_diff.append(int(data[i + 1][2]) - int(data[i][2]))\n",
        "  #Return the occupied_diff list\n",
        "  return occupied_diff\n",
        "\n",
        "#Function to calculate percentage of vacant and occupied housing units\n",
        "def calculate_percentage(data):\n",
        "  #Initialize two empty lists to store percentage values of vacant and occupied housing units\n",
        "  vacant_percentage = []\n",
        "  occupied_percentage = []\n",
        "  #Loop through the data\n",
        "  for i in range(len(data)):\n",
        "    #Calculate the total number of housing units in the year\n",
        "    total_units = int(data[i][1]) + int(data[i][2])\n",
        "    #Append the percentage of vacant housing units to the vacant_percentage list\n",
        "    vacant_percentage.append(int(data[i][1]) / total_units * 100)\n",
        "    #Append the percentage of occupied housing units to the occupied_percentage list\n",
        "    occupied_percentage.append(int(data[i][2]) / total_units * 100)\n",
        "  #Return the vacant_percentage and occupied_percentage lists\n",
        "  return vacant_percentage, occupied_percentage\n",
        "\n",
        "#Function to calculate the highest number of housing units, either vacant or occupied\n",
        "def calculate_highest_value(data, index):\n",
        "  #Initialize variables to store the highest value and year\n",
        "  highest_value = 0\n",
        "  highest_year = 0\n",
        "  #Loop through the data\n",
        "  for i in range(len(data)):\n",
        "    #Check if the current value of housing units is greater than the highest_value\n",
        "    if int(data[i][index]) > highest_value:\n",
        "      #Update the highest_value with the current value\n",
        "      highest_value = int(data[i][index])\n",
        "      #Update the highest_year with the current year\n",
        "      highest_year = int(data[i][0])\n",
        "  #Return the highest_year and highest_value\n",
        "  return highest_year, highest_value\n",
        "\n",
        "def main():\n",
        "  #Open the csv file and read it into a list called data\n",
        "  with open(\"Assignment1_denton_housing.csv\") as f:\n",
        "    data = list(csv.reader(f))\n",
        "\n",
        "  #Print the difference in occupied housing units from year to year\n",
        "  print(\"Difference in Occupied Housing Units from year to year:\")\n",
        "  occupied_diff = calculate_difference(data)\n",
        "  for i in range(len(occupied_diff)):\n",
        "    print(\"{0}-{1}: {2}\".format(2008 + i, 2008 + i + 1, occupied_diff[i]))\n",
        "\n",
        "  #Print the percentage of vacant and occupied housing units\n",
        "  print(\"\\nPercentage of Vacant and Occupied Housing Units:\")\n",
        "  print(\"Year Vacant Housing Units Occupied Housing Units\")\n"
      ]
    }
  ],
  "metadata": {
    "colab": {
      "provenance": [],
      "include_colab_link": true
    },
    "kernelspec": {
      "display_name": "Python 3 (ipykernel)",
      "language": "python",
      "name": "python3"
    },
    "language_info": {
      "codemirror_mode": {
        "name": "ipython",
        "version": 3
      },
      "file_extension": ".py",
      "mimetype": "text/x-python",
      "name": "python",
      "nbconvert_exporter": "python",
      "pygments_lexer": "ipython3",
      "version": "3.9.12"
    }
  },
  "nbformat": 4,
  "nbformat_minor": 0
}